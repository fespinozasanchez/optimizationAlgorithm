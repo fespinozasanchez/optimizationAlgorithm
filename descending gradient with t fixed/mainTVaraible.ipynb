{
 "cells": [
  {
   "cell_type": "markdown",
   "id": "3168f401-2b3c-4b91-948b-bee96639dec5",
   "metadata": {},
   "source": [
    "## Algoritmo del gradiente descendente: actualización de t por el método de Barzilai-Borwein"
   ]
  },
  {
   "cell_type": "markdown",
   "id": "f2254a6b-ff7e-4837-aeab-a7795e227285",
   "metadata": {
    "jp-MarkdownHeadingCollapsed": true,
    "tags": []
   },
   "source": [
    "#### El algoritmo nos indica lo siguiente :\n",
    "#### Dado un punto x en el dominio de f(x) y un escalar t , en donde t cambia en cada paso:\n",
    "#### Repetimos $$ ||\\nabla f(x_n)||_2>= \\eta$$ \n",
    "#### Es decir mientras la norma del gradiente sea mayor o igual a un valor fijo definido.\n",
    "#### Se define $$\\Delta x_n := -\\nabla f(x_n)$$\n",
    "#### Como el - gradiente de la funcion evaluada en x para luego evaluar:\n",
    "#### $$t_n := \\frac{|(x_n-x_{n-1})^T[\\nabla f(x_n)-\\nabla f(x_{n-1})]|}{|| \\nabla f(x_n)-\\nabla f(x_{n-1})||^2} $$ \n",
    "#### Y finalmente: $$x_{n+1}:=x_n+t_n \\Delta x_n$$"
   ]
  },
  {
   "cell_type": "markdown",
   "id": "3f98ac6d-cca0-4cb2-b916-44c0f13c848c",
   "metadata": {},
   "source": [
    "# Se nos solicita entonces el siguiente ejercicio:\n",
    "#### Implemente el algoritmo para funciones bivariantes utilizando el lenguaje de su preferencia y librerías matemáticas que incorporen derivadas numéricas o el cálculo del gradiente."
   ]
  },
  {
   "cell_type": "markdown",
   "id": "56880f1f-036d-421b-b428-0fcfab5b8899",
   "metadata": {},
   "source": [
    "### Importaciones"
   ]
  },
  {
   "cell_type": "code",
   "execution_count": 1,
   "id": "c7254db3-6a54-4790-a62c-d86fd2c9998a",
   "metadata": {},
   "outputs": [],
   "source": [
    "from sympy import *"
   ]
  },
  {
   "cell_type": "code",
   "execution_count": 2,
   "id": "ffd93bdd-7ec0-414d-9472-36f5f32fa983",
   "metadata": {},
   "outputs": [],
   "source": [
    "def derivatives(f,x,y):\n",
    "    \"\"\"\n",
    "    It takes a function (x,y)  and returns the partial derivative of x,y \n",
    "    \n",
    "    :param f: the function\n",
    "    :param x: the x-coordinate of the point\n",
    "    :param y: the function\n",
    "    :return: The first two elements are the second derivatives of f with respect to x and y,\n",
    "    respectively. \n",
    "    \"\"\"\n",
    "    dx = diff(f, x)\n",
    "    dy = diff(f, y)\n",
    "    return Matrix([[dx],[dy]])"
   ]
  },
  {
   "cell_type": "code",
   "execution_count": 3,
   "id": "df06f456-63d9-47ce-b570-9281432df24f",
   "metadata": {},
   "outputs": [],
   "source": [
    "def functions(f: str):\n",
    "    \"\"\"\n",
    "    If the input is a function, return it. Otherwise, convert it to a function\n",
    "\n",
    "    :param f: the function to be integrated\n",
    "    :type f: str\n",
    "    :return: The function itself if it is a function, otherwise it is converted to a sympy function.\n",
    "    \"\"\"\n",
    "    return f if isinstance(f, Function) else sympify(f)"
   ]
  },
  {
   "cell_type": "code",
   "execution_count": 4,
   "id": "cdfb342b-04da-4be7-b6d6-7de0fe8204d3",
   "metadata": {},
   "outputs": [],
   "source": [
    "def barz_borw(tV,xV,yV,gradientV,etaV,x,y):\n",
    "    '''\n",
    "    This function take for parameters a scale value, (x,y) coordinates, its gradient, an eta value and the x,y symbols.\n",
    "    :param tV: refers to the t value (scale value).\n",
    "    :param xV: refers to x coordinate value.\n",
    "    :param yV: refers to y coordinate value.\n",
    "    :param gradientV: refers to the gradient of the function f(x,y).\n",
    "    :param etaV: refers to eta value.\n",
    "    :param x: refers to x symbol.\n",
    "    :param y: refers to y symbol.\n",
    "    :param oGr : refers to the old gradient or the first gradient calculated before reasignating t.\n",
    "    :param nGr : refers to the new gradient value after reasignating t.\n",
    "    :param dx : referst to the Δ𝑥𝑛:=−∇𝑓(𝑥𝑛) value.\n",
    "    :param lwP :refers to the lowest part of the equation (||∇𝑓(𝑥𝑛)−∇𝑓(𝑥𝑛−1)||2)\n",
    "    :return:   Return the  Barzilai-Borwein algorithm value  on the given data.\n",
    "    '''\n",
    "    cords=Matrix([[float(xV)],[float(yV)]])\n",
    "    while(float(gradientV.subs([(x,cords[0]),(y,cords[1])]).norm())>=etaV):\n",
    "        oGr= gradientV.subs([(x,cords[0]),(y,cords[1])])\n",
    "        dx= -tV * oGr\n",
    "        cords=cords+dx\n",
    "        nGr=gradientV.subs([(x,cords[0]),(y,cords[1])])\n",
    "        lwP = nGr - oGr\n",
    "        oGr = nGr\n",
    "        tV = dx.dot(lwP) / lwP.dot(lwP)\n",
    "    return cords\n",
    "\n",
    "        "
   ]
  },
  {
   "cell_type": "code",
   "execution_count": 5,
   "id": "6ffff317-20b1-4b36-b589-db3e97da617b",
   "metadata": {},
   "outputs": [],
   "source": [
    "def main():\n",
    "    x = Symbol('x')\n",
    "    y = Symbol('y')\n",
    "    f = input('Enter a function: ')\n",
    "    function = functions(f)\n",
    "    tV = float(input('Enter a t value between 0-1: '))\n",
    "    eV =float( input('Enter a eta value: '))\n",
    "    xV= float(input('Enter the x  value: '))\n",
    "    yV= float(input('Enter the y  value: '))\n",
    "    gradientV = derivatives(function,x,y)\n",
    "    cords=barz_borw(tV,xV,yV,gradientV,eV,x,y)\n",
    "    print(cords)\n",
    "\n"
   ]
  },
  {
   "cell_type": "code",
   "execution_count": 6,
   "id": "20a7fc70-f3ed-4097-8264-9cd8b09ec179",
   "metadata": {},
   "outputs": [
    {
     "name": "stdin",
     "output_type": "stream",
     "text": [
      "Enter a function:  x**2+y**4+3*y+x*4*y**2\n",
      "Enter a t value between 0-1:  0.2\n",
      "Enter a eta value:  0.0003\n",
      "Enter the x  value:  2\n",
      "Enter the y  value:  3\n"
     ]
    },
    {
     "name": "stdout",
     "output_type": "stream",
     "text": [
      "Matrix([[-0.793672795252812], [0.629921842658532]])\n"
     ]
    }
   ],
   "source": [
    "main()"
   ]
  },
  {
   "cell_type": "markdown",
   "id": "bb7dcb36-0f4f-42fa-b890-c73b197d83bd",
   "metadata": {},
   "source": []
  }
 ],
 "metadata": {
  "kernelspec": {
   "display_name": "Python 3 (ipykernel)",
   "language": "python",
   "name": "python3"
  },
  "language_info": {
   "codemirror_mode": {
    "name": "ipython",
    "version": 3
   },
   "file_extension": ".py",
   "mimetype": "text/x-python",
   "name": "python",
   "nbconvert_exporter": "python",
   "pygments_lexer": "ipython3",
   "version": "3.10.4"
  }
 },
 "nbformat": 4,
 "nbformat_minor": 5
}
