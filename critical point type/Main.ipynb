{
 "cells": [
  {
   "cell_type": "markdown",
   "id": "eeefbac9",
   "metadata": {},
   "source": [
    "# Derivada por Definición"
   ]
  },
  {
   "cell_type": "code",
   "execution_count": 6,
   "id": "2c5aa9b5",
   "metadata": {},
   "outputs": [],
   "source": [
    "from sympy import *\n",
    "x, y, h  = symbols('x, y, h')"
   ]
  },
  {
   "cell_type": "markdown",
   "id": "809d3714",
   "metadata": {},
   "source": [
    "1. Función:\n",
    "$$ f(x,y) = x^2 + 4y^2 - 2x^2y + 4 $$ "
   ]
  },
  {
   "cell_type": "code",
   "execution_count": null,
   "id": "7ad3fbd3",
   "metadata": {},
   "outputs": [],
   "source": []
  }
 ],
 "metadata": {
  "kernelspec": {
   "display_name": "Python 3 (ipykernel)",
   "language": "python",
   "name": "python3"
  },
  "language_info": {
   "codemirror_mode": {
    "name": "ipython",
    "version": 3
   },
   "file_extension": ".py",
   "mimetype": "text/x-python",
   "name": "python",
   "nbconvert_exporter": "python",
   "pygments_lexer": "ipython3",
   "version": "3.10.4"
  }
 },
 "nbformat": 4,
 "nbformat_minor": 5
}
