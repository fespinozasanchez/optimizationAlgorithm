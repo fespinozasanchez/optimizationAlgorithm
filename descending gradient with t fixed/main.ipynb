{
 "cells": [
  {
   "cell_type": "markdown",
   "id": "c908ddd2-acf3-47b9-9f07-ab2b7aea4750",
   "metadata": {},
   "source": [
    "# Algoritmo del gradiente descendente con t fijo"
   ]
  }
 ],
 "metadata": {
  "kernelspec": {
   "display_name": "Python 3 (ipykernel)",
   "language": "python",
   "name": "python3"
  },
  "language_info": {
   "codemirror_mode": {
    "name": "ipython",
    "version": 3
   },
   "file_extension": ".py",
   "mimetype": "text/x-python",
   "name": "python",
   "nbconvert_exporter": "python",
   "pygments_lexer": "ipython3",
   "version": "3.10.4"
  }
 },
 "nbformat": 4,
 "nbformat_minor": 5
}
