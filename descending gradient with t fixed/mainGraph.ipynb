{
 "cells": [
  {
   "cell_type": "markdown",
   "id": "c908ddd2-acf3-47b9-9f07-ab2b7aea4750",
   "metadata": {
    "tags": []
   },
   "source": [
    "<center> <h1>Algoritmo del gradiente descendente con t fijo</h1> </center>"
   ]
  },
  {
   "cell_type": "markdown",
   "id": "3bd238d2-663a-4296-8a40-946199909604",
   "metadata": {},
   "source": [
    "<h2>Definición</h2>\n",
    "<h4>Es un algoritmo que utiliza la dirección del gradiente para encontrar\n",
    "puntos óptimos de la función objetivo.</h4>"
   ]
  },
  {
   "cell_type": "markdown",
   "id": "71e9286a-580f-4192-9bb0-8ab980b34248",
   "metadata": {},
   "source": [
    "<ol>\n",
    "  <li>Dado un punto x en el dominio de $f(x)$ y un escalar $t$</li>\n",
    "  <li>Repita mientras $||\\nabla f(x_n)||_2 \\geq \\eta $\n",
    "         <ul>\n",
    "          <li>$\\Delta x_n := -\\nabla f(x_n)$</li>\n",
    "          <li>$x_{n+1} := x_n + t \\Delta x_n$</li>\n",
    "      </ul> \n",
    "   </li>\n",
    "\n",
    "</ol>"
   ]
  },
  {
   "cell_type": "markdown",
   "id": "99b250c5-3013-4a50-a647-999731423502",
   "metadata": {},
   "source": [
    "<h2>Ejercicio</h2>\n",
    "<h4>Implemente el algoritmo para funciones bivariantes utilizando el\n",
    "lenguaje de su preferencia y librerías matemáticas que incorporen\n",
    "derivadas numéricas o el cálculo del gradiente.</h4>"
   ]
  },
  {
   "cell_type": "code",
   "execution_count": 1,
   "id": "c2ba70de-1248-49b9-bfcd-0eba94dfa1c0",
   "metadata": {},
   "outputs": [],
   "source": [
    "import sympy\n",
    "from sympy import*\n",
    "import matplotlib.pyplot as plt"
   ]
  },
  {
   "cell_type": "code",
   "execution_count": 2,
   "id": "33b3f7fd-a1ab-4c27-8932-b22b2b4e7787",
   "metadata": {},
   "outputs": [],
   "source": [
    "def functions(f: str):\n",
    "    \"\"\"\n",
    "    If the input is a function, return it. Otherwise, convert it to a function\n",
    "\n",
    "    :param f: the function to be integrated\n",
    "    :type f: str\n",
    "    :return: The function itself if it is a function, otherwise it is converted to a sympy function.\n",
    "    \"\"\"\n",
    "    return f if isinstance(f, Function) else sympify(f)"
   ]
  },
  {
   "cell_type": "code",
   "execution_count": 3,
   "id": "13b61024-6e94-4881-9d55-1b0d2aa4f8d1",
   "metadata": {},
   "outputs": [],
   "source": [
    "def get_Symbols()->list:\n",
    "    \"\"\"\n",
    "    It returns a list of two symbols, `x` and `y`\n",
    "    :return: A list of two symbols, x and y.\n",
    "    \"\"\"\n",
    "    return Symbol('x'), Symbol('y')"
   ]
  },
  {
   "cell_type": "code",
   "execution_count": 4,
   "id": "0bdea5a5-d625-43a0-978a-46242d01691b",
   "metadata": {},
   "outputs": [],
   "source": [
    "def get_Gradient(*args: any) -> list:\n",
    "    \"\"\"\n",
    "    > The function `get_Gradient` takes in two arguments, `x` and `y`, and returns the gradient of the\n",
    "    function `f` with respect to `x` and `y`\n",
    "    \n",
    "    :param : $\n",
    "    :type : any\n",
    "    :return: A Matrix of the partial derivatives of the function with respect to the variables.\n",
    "    \"\"\"\n",
    "    if len(args) > 0: return Matrix([[diff(args[0], args[1])], [diff(args[0], args[2])]])"
   ]
  },
  {
   "cell_type": "code",
   "execution_count": 5,
   "id": "baba78e9-f47c-4b83-86b9-afe1888e8961",
   "metadata": {},
   "outputs": [],
   "source": [
    "def get_Point(points: str) -> list:\n",
    "    \"\"\"\n",
    "    It takes a string of comma separated numbers and returns a matrix of those numbers\n",
    "    \n",
    "    :param points: a string of comma-separated numbers (\"x,y\")\n",
    "    :type points: str\n",
    "    :return: A list of lists of floats.\n",
    "    \"\"\"\n",
    "    return Matrix([ [float(point)] for point in points.split(',') ])"
   ]
  },
  {
   "cell_type": "code",
   "execution_count": 13,
   "id": "ece95c6f-21ef-4d7e-974c-07a33d150841",
   "metadata": {},
   "outputs": [],
   "source": [
    "def desc_Gradient(point: list, gradient: list, t: float, n: float, *args:any) -> list:\n",
    "    \"\"\"\n",
    "    The function takes in a point, a gradient, a step size, a tolerance, and a list of variables, and\n",
    "    returns the point at which the gradient is less than the tolerance\n",
    "    \n",
    "    :param point: list, gradient: list, t: float, n: float, *args:any\n",
    "    :type point: list\n",
    "    :param gradient: the gradient of the function\n",
    "    :type gradient: list\n",
    "    :param t: step size\n",
    "    :type t: float\n",
    "    :param n: the norm of the gradient vector\n",
    "    :type n: float\n",
    "    :param : point is the starting point\n",
    "    :type : any\n",
    "    :return: The point at which the gradient is less than n.\n",
    "    \"\"\"\n",
    "    dataT=[]\n",
    "    gradient_vector = float(gradient.subs([(args[0], point[0]), (args[1], point[1])]).norm())\n",
    "    while  gradient_vector >= n:\n",
    "        gradient_vector = float(gradient.subs([(args[0], point[0]), (args[1], point[1])]).norm())\n",
    "        delta_x_n = -1 * gradient.subs([(args[0], point[0]), (args[1], point[1])])\n",
    "        point = point + t * (delta_x_n)\n",
    "        dataT.append(point)\n",
    "    return point,dataT"
   ]
  },
  {
   "cell_type": "code",
   "execution_count": 36,
   "id": "0b078d48-6121-46d5-9b73-8f9b53cd682c",
   "metadata": {},
   "outputs": [],
   "source": [
    "def barz_borw(tV,xV,yV,gradientV,etaV,x,y):\n",
    "    '''\n",
    "    This function take for parameters a scale value, (x,y) coordinates, its gradient, an eta value and the x,y symbols.\n",
    "    :param tV: refers to the t value (scale value).\n",
    "    :param xV: refers to x coordinate value.\n",
    "    :param yV: refers to y coordinate value.\n",
    "    :param gradientV: refers to the gradient of the function f(x,y).\n",
    "    :param etaV: refers to eta value.\n",
    "    :param x: refers to x symbol.\n",
    "    :param y: refers to y symbol.\n",
    "    :param oGr : refers to the old gradient or the first gradient calculated before reasignating t.\n",
    "    :param nGr : refers to the new gradient value after reasignating t.\n",
    "    :param dx : referst to the Δ𝑥𝑛:=−∇𝑓(𝑥𝑛) value.\n",
    "    :param lwP :refers to the lowest part of the equation (||∇𝑓(𝑥𝑛)−∇𝑓(𝑥𝑛−1)||2)\n",
    "    :return:   Return the  Barzilai-Borwein algorithm value  on the given data.\n",
    "    '''\n",
    "    dataTV=[]\n",
    "    cords=Matrix([[float(xV)],[float(yV)]])\n",
    "    while(float(gradientV.subs([(x,cords[0]),(y,cords[1])]).norm())>=etaV):\n",
    "        oGr= gradientV.subs([(x,cords[0]),(y,cords[1])])\n",
    "        dx= -tV * oGr\n",
    "        cords=cords+dx\n",
    "        nGr=gradientV.subs([(x,cords[0]),(y,cords[1])])\n",
    "        lwP = nGr - oGr\n",
    "        oGr = nGr\n",
    "        tV = dx.dot(lwP) / lwP.dot(lwP)\n",
    "        dataTV.append(cords)\n",
    "    return [cords,dataTV]\n"
   ]
  },
  {
   "cell_type": "code",
   "execution_count": 37,
   "id": "b16236be-2448-49e1-89be-26e76996b46b",
   "metadata": {},
   "outputs": [],
   "source": [
    "def graph(pt ):\n",
    "    x=pt[0]\n",
    "    y=pt[1]\n",
    "    print('x',x,'\\n','y',y)\n",
    "    \"\"\"\n",
    "    It takes a list of points and plots them on a graph\n",
    "    \n",
    "    :param Points: a array of the following:\n",
    "    \"\"\"\n",
    "    plt.title('T')\n",
    "    plt.plot(x, y, color=\"red\", label=\"T fija\")\n",
    "    plt.legend()\n",
    "    plt.grid()\n",
    "    plt.xlabel('x')\n",
    "    plt.ylabel('f(x)')\n",
    "    plt.show()\n"
   ]
  },
  {
   "cell_type": "code",
   "execution_count": 40,
   "id": "9e5299c1-5e2b-4cf5-917e-4712a0fd9001",
   "metadata": {},
   "outputs": [],
   "source": [
    "def main():\n",
    "    \"\"\"\n",
    "    It takes a function, a point, a scalar, and a number, and returns the gradient descent of the\n",
    "    function at the point with the scalar and number\n",
    "    \"\"\"\n",
    "    funcion = functions(str(input(\"Ingrese su función: \")))\n",
    "    punto = get_Point(str(input(\"Ingrese un Punto (x,y): \")))\n",
    "    n = float(input(\"Ingrese n (eta): \"))\n",
    "    t = float(input(\"Ingrese escalar t: \"))\n",
    "    x, y = get_Symbols()\n",
    "    gradient = get_Gradient(funcion, x, y)\n",
    "    desc = desc_Gradient(punto, gradient, t, n, x,y)\n",
    "    barz=barz_borw(t,punto[0],punto[1],gradient,n,x,y)\n",
    "    graph(desc[1])\n",
    "    graph(barz[1])\n",
    "    "
   ]
  },
  {
   "cell_type": "code",
   "execution_count": 41,
   "id": "662ec493-5ece-4d45-bb9e-dc25a34791ad",
   "metadata": {},
   "outputs": [
    {
     "name": "stdin",
     "output_type": "stream",
     "text": [
      "Ingrese su función:  x**2+y**2+3*y+4*x\n",
      "Ingrese un Punto (x,y):  4.0 , -3.0\n",
      "Ingrese n (eta):  0.002\n",
      "Ingrese escalar t:  0.1\n"
     ]
    },
    {
     "name": "stdout",
     "output_type": "stream",
     "text": [
      "x Matrix([[2.80000000000000], [-2.70000000000000]]) \n",
      " y Matrix([[1.84000000000000], [-2.46000000000000]])\n"
     ]
    },
    {
     "data": {
      "image/png": "[encoded data removed]",
      "text/plain": [
       "<Figure size 432x288 with 1 Axes>"
      ]
     },
     "metadata": {
      "needs_background": "light"
     },
     "output_type": "display_data"
    },
    {
     "name": "stdout",
     "output_type": "stream",
     "text": [
      "x Matrix([[2.80000000000000], [-2.70000000000000]]) \n",
      " y Matrix([[-2.00000000000000], [-1.50000000000000]])\n"
     ]
    },
    {
     "data": {
      "image/png": "[encoded data removed]",
      "text/plain": [
       "<Figure size 432x288 with 1 Axes>"
      ]
     },
     "metadata": {
      "needs_background": "light"
     },
     "output_type": "display_data"
    }
   ],
   "source": [
    "main()"
   ]
  },
  {
   "cell_type": "code",
   "execution_count": null,
   "id": "b90e730d-7709-4928-bd9b-8933db971310",
   "metadata": {},
   "outputs": [],
   "source": []
  }
 ],
 "metadata": {
  "kernelspec": {
   "display_name": "Python 3 (ipykernel)",
   "language": "python",
   "name": "python3"
  },
  "language_info": {
   "codemirror_mode": {
    "name": "ipython",
    "version": 3
   },
   "file_extension": ".py",
   "mimetype": "text/x-python",
   "name": "python",
   "nbconvert_exporter": "python",
   "pygments_lexer": "ipython3",
   "version": "3.8.5"
  }
 },
 "nbformat": 4,
 "nbformat_minor": 5
}
