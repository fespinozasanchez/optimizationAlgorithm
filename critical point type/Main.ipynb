{
 "cells": [
  {
   "cell_type": "markdown",
   "id": "84fe2373",
   "metadata": {},
   "source": [
    "# Derivada por Definición"
   ]
  },
  {
   "cell_type": "code",
   "execution_count": 6,
   "id": "2ecc866f",
   "metadata": {},
   "outputs": [],
   "source": [
    "from sympy import *\n",
    "x, y, h  = symbols('x, y, h')"
   ]
  },
  {
   "cell_type": "markdown",
   "id": "e2fbcfde",
   "metadata": {},
   "source": [
    "1. Función:\n",
    "$$ f(x,y) = x**2 + 4*y**2 - 2*(x**2)*y + 4 $$ "
   ]
  },
  {
   "cell_type": "code",
   "execution_count": null,
   "id": "68462563",
   "metadata": {},
   "outputs": [],
   "source": []
  }
 ],
 "metadata": {
  "kernelspec": {
   "display_name": "Python 3 (ipykernel)",
   "language": "python",
   "name": "python3"
  },
  "language_info": {
   "codemirror_mode": {
    "name": "ipython",
    "version": 3
   },
   "file_extension": ".py",
   "mimetype": "text/x-python",
   "name": "python",
   "nbconvert_exporter": "python",
   "pygments_lexer": "ipython3",
   "version": "3.10.4"
  }
 },
 "nbformat": 4,
 "nbformat_minor": 5
}
