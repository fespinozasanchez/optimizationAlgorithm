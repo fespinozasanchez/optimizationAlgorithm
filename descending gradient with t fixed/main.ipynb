{
 "cells": [
  {
   "cell_type": "markdown",
   "id": "c908ddd2-acf3-47b9-9f07-ab2b7aea4750",
   "metadata": {
    "tags": []
   },
   "source": [
    "<center> <h1>Algoritmo del gradiente descendente con t fijo</h1> </center>"
   ]
  },
  {
   "cell_type": "markdown",
   "id": "3bd238d2-663a-4296-8a40-946199909604",
   "metadata": {},
   "source": [
    "<h2>Definición</h2>\n",
    "<h4>Es un algoritmo que utiliza la dirección del gradiente para encontrar\n",
    "puntos óptimos de la función objetivo.</h4>"
   ]
  },
  {
   "cell_type": "markdown",
   "id": "71e9286a-580f-4192-9bb0-8ab980b34248",
   "metadata": {},
   "source": [
    "<ol>\n",
    "  <li>Dado un punto x en el dominio de $f(x)$ y un escalar $t$</li>\n",
    "  <li>Repita mientras $||\\nabla f(x_n)||_2 \\geq \\eta $\n",
    "         <ul>\n",
    "          <li>$\\Delta x_n := -\\nabla f(x_n)$</li>\n",
    "          <li>$x_{n+1} := x_n + t \\Delta x_n$</li>\n",
    "      </ul> \n",
    "   </li>\n",
    "\n",
    "</ol>"
   ]
  },
  {
   "cell_type": "markdown",
   "id": "99b250c5-3013-4a50-a647-999731423502",
   "metadata": {},
   "source": [
    "<h2>Ejercicio</h2>\n",
    "<h4>Implemente el algoritmo para funciones bivariantes utilizando el\n",
    "lenguaje de su preferencia y librerías matemáticas que incorporen\n",
    "derivadas numéricas o el cálculo del gradiente.</h4>"
   ]
  },
  {
   "cell_type": "code",
   "execution_count": 1,
   "id": "c2ba70de-1248-49b9-bfcd-0eba94dfa1c0",
   "metadata": {},
   "outputs": [],
   "source": [
    "import sympy\n",
    "from sympy import*"
   ]
  },
  {
   "cell_type": "code",
   "execution_count": 2,
   "id": "33b3f7fd-a1ab-4c27-8932-b22b2b4e7787",
   "metadata": {},
   "outputs": [],
   "source": [
    "def functions(f: str):\n",
    "    \"\"\"\n",
    "    If the input is a function, return it. Otherwise, convert it to a function\n",
    "\n",
    "    :param f: the function to be integrated\n",
    "    :type f: str\n",
    "    :return: The function itself if it is a function, otherwise it is converted to a sympy function.\n",
    "    \"\"\"\n",
    "    return f if isinstance(f, Function) else sympify(f)"
   ]
  },
  {
   "cell_type": "code",
   "execution_count": 3,
   "id": "13b61024-6e94-4881-9d55-1b0d2aa4f8d1",
   "metadata": {},
   "outputs": [],
   "source": [
    "def get_Symbols():\n",
    "    \"\"\"\n",
    "    It returns two symbols, x and y\n",
    "    :return: the symbols x and y.\n",
    "    \"\"\"\n",
    "    return Symbol('x'), Symbol('y')"
   ]
  },
  {
   "cell_type": "code",
   "execution_count": 4,
   "id": "0bdea5a5-d625-43a0-978a-46242d01691b",
   "metadata": {},
   "outputs": [],
   "source": [
    "def get_Gradient(*args):\n",
    "    \"\"\"\n",
    "    > The function `get_Gradient` takes in a function and two variables, and returns the gradient of the\n",
    "    function with respect to the two variables\n",
    "    :return: The gradient of the function with respect to the two variables.\n",
    "    \"\"\"\n",
    "    if len(args) > 0: return Matrix([[diff(args[0], args[1])], [diff(args[0], args[2])]])"
   ]
  },
  {
   "cell_type": "code",
   "execution_count": 5,
   "id": "baba78e9-f47c-4b83-86b9-afe1888e8961",
   "metadata": {},
   "outputs": [],
   "source": [
    "def get_Point(points):\n",
    "    \"\"\"\n",
    "    It takes a string of comma separated numbers and returns a list of the numbers\n",
    "    \n",
    "    :param points: The points parameter is a string of comma-separated coord. pairs.\n",
    "    x and y values should be separated by a comma. For example,\n",
    "    points = (10,3)\n",
    "    :return: A list of the points\n",
    "    \"\"\"\n",
    "    return Matrix([ [float(point)] for point in points.split(',') ])"
   ]
  },
  {
   "cell_type": "code",
   "execution_count": 15,
   "id": "ece95c6f-21ef-4d7e-974c-07a33d150841",
   "metadata": {},
   "outputs": [],
   "source": [
    "def desc_Gradient(point: list, gradient: list, t: float, n: float, *args:any):\n",
    "    \"\"\"\n",
    "    The function takes in a point, a gradient, a step size, a tolerance, and a list of variables, and\n",
    "    returns the point at which the gradient is less than the tolerance\n",
    "    \n",
    "    :param point: list, gradient: list, t: float, n: float, *args:any\n",
    "    :type point: list\n",
    "    :param gradient: the gradient of the function\n",
    "    :type gradient: list\n",
    "    :param t: step size\n",
    "    :type t: float\n",
    "    :param n: the norm of the gradient vector\n",
    "    :type n: float\n",
    "    :param : point is the starting point\n",
    "    :type : any\n",
    "    :return: The point at which the gradient is less than n.\n",
    "    \"\"\"\n",
    "    gradient_vector = float(gradient.subs([(args[0], point[0]), (args[1], point[1])]).norm())\n",
    "    while  gradient_vector >= n:\n",
    "        gradient_vector = float(gradient.subs([(args[0], point[0]), (args[1], point[1])]).norm())\n",
    "        delta_x_n = -1 * gradient.subs([(args[0], point[0]), (args[1], point[1])])\n",
    "        point = point + t * (delta_x_n)\n",
    "        print(point)\n",
    "    return point"
   ]
  },
  {
   "cell_type": "code",
   "execution_count": 16,
   "id": "9e5299c1-5e2b-4cf5-917e-4712a0fd9001",
   "metadata": {},
   "outputs": [],
   "source": [
    "def main():\n",
    "    \"\"\"\n",
    "    It takes a function, a point, a scalar, and a number, and returns the gradient descent of the\n",
    "    function at the point with the scalar and number\n",
    "    \"\"\"\n",
    "    funcion = functions(str(input(\"Ingrese su función: \")))\n",
    "    punto = get_Point(str(input(\"Ingrese un Punto (x,y): \")))\n",
    "    print(punto)\n",
    "    n = float(input(\"Ingrese n (eta): \"))\n",
    "    t = float(input(\"Ingrese escalar t: \"))\n",
    "    x, y = get_Symbols()\n",
    "    gradient = get_Gradient(funcion, x, y)\n",
    "    desc = desc_Gradient(punto, gradient, t, n, x,y)\n",
    "    print(gradient)\n",
    "    print(desc)"
   ]
  },
  {
   "cell_type": "code",
   "execution_count": 14,
   "id": "662ec493-5ece-4d45-bb9e-dc25a34791ad",
   "metadata": {},
   "outputs": [
    {
     "name": "stdin",
     "output_type": "stream",
     "text": [
      "Ingrese su función:  x**2+y**2\n",
      "Ingrese un Punto (x,y):  3,4\n"
     ]
    },
    {
     "name": "stdout",
     "output_type": "stream",
     "text": [
      "Matrix([[3.00000000000000], [4.00000000000000]])\n"
     ]
    },
    {
     "name": "stdin",
     "output_type": "stream",
     "text": [
      "Ingrese n (eta):  0.006\n",
      "Ingrese escalar t:  0.1\n"
     ]
    },
    {
     "name": "stdout",
     "output_type": "stream",
     "text": [
      "Matrix([[2.40000000000000], [3.20000000000000]])\n",
      "Matrix([[1.92000000000000], [2.56000000000000]])\n",
      "Matrix([[1.53600000000000], [2.04800000000000]])\n",
      "Matrix([[1.22880000000000], [1.63840000000000]])\n",
      "Matrix([[0.983040000000000], [1.31072000000000]])\n",
      "Matrix([[0.786432000000000], [1.04857600000000]])\n",
      "Matrix([[0.629145600000000], [0.838860800000000]])\n",
      "Matrix([[0.503316480000000], [0.671088640000000]])\n",
      "Matrix([[0.402653184000000], [0.536870912000000]])\n",
      "Matrix([[0.322122547200000], [0.429496729600000]])\n",
      "Matrix([[0.257698037760000], [0.343597383680000]])\n",
      "Matrix([[0.206158430208000], [0.274877906944000]])\n",
      "Matrix([[0.164926744166400], [0.219902325555200]])\n",
      "Matrix([[0.131941395333120], [0.175921860444160]])\n",
      "Matrix([[0.105553116266496], [0.140737488355328]])\n",
      "Matrix([[0.0844424930131968], [0.112589990684262]])\n",
      "Matrix([[0.0675539944105575], [0.0900719925474099]])\n",
      "Matrix([[0.0540431955284460], [0.0720575940379279]])\n",
      "Matrix([[0.0432345564227568], [0.0576460752303424]])\n",
      "Matrix([[0.0345876451382054], [0.0461168601842739]])\n",
      "Matrix([[0.0276701161105643], [0.0368934881474191]])\n",
      "Matrix([[0.0221360928884515], [0.0295147905179353]])\n",
      "Matrix([[0.0177088743107612], [0.0236118324143482]])\n",
      "Matrix([[0.0141670994486089], [0.0188894659314786]])\n",
      "Matrix([[0.0113336795588872], [0.0151115727451829]])\n",
      "Matrix([[0.00906694364710972], [0.0120892581961463]])\n",
      "Matrix([[0.00725355491768778], [0.00967140655691704]])\n",
      "Matrix([[0.00580284393415022], [0.00773712524553363]])\n",
      "Matrix([[0.00464227514732018], [0.00618970019642690]])\n",
      "Matrix([[0.00371382011785614], [0.00495176015714152]])\n",
      "Matrix([[0.00297105609428491], [0.00396140812571322]])\n",
      "Matrix([[0.00237684487542793], [0.00316912650057057]])\n",
      "Matrix([[0.00190147590034234], [0.00253530120045646]])\n",
      "Matrix([[0.00152118072027388], [0.00202824096036517]])\n",
      "Matrix([[0.00121694457621910], [0.00162259276829213]])\n",
      "Matrix([[2*x], [2*y]])\n",
      "Matrix([[0.00121694457621910], [0.00162259276829213]])\n"
     ]
    }
   ],
   "source": [
    "main()"
   ]
  },
  {
   "cell_type": "code",
   "execution_count": null,
   "id": "b90e730d-7709-4928-bd9b-8933db971310",
   "metadata": {},
   "outputs": [],
   "source": []
  }
 ],
 "metadata": {
  "kernelspec": {
   "display_name": "Python 3 (ipykernel)",
   "language": "python",
   "name": "python3"
  },
  "language_info": {
   "codemirror_mode": {
    "name": "ipython",
    "version": 3
   },
   "file_extension": ".py",
   "mimetype": "text/x-python",
   "name": "python",
   "nbconvert_exporter": "python",
   "pygments_lexer": "ipython3",
   "version": "3.10.4"
  }
 },
 "nbformat": 4,
 "nbformat_minor": 5
}
