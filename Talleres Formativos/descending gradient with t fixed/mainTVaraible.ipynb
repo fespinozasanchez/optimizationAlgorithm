{
 "cells": [
  {
   "cell_type": "markdown",
   "id": "3168f401-2b3c-4b91-948b-bee96639dec5",
   "metadata": {},
   "source": [
    "## Algoritmo del gradiente descendente: actualización de t por el método de Barzilai-Borwein"
   ]
  },
  {
   "cell_type": "markdown",
   "id": "f2254a6b-ff7e-4837-aeab-a7795e227285",
   "metadata": {
    "jp-MarkdownHeadingCollapsed": true,
    "tags": []
   },
   "source": [
    "#### El algoritmo nos indica lo siguiente :\n",
    "#### Dado un punto x en el dominio de f(x) y un escalar t , en donde t cambia en cada paso:\n",
    "#### Repetimos $$ ||\\nabla f(x_n)||_2>= \\eta$$ \n",
    "#### Es decir mientras la norma del gradiente sea mayor o igual a un valor fijo definido.\n",
    "#### Se define $$\\Delta x_n := -\\nabla f(x_n)$$\n",
    "#### Como el - gradiente de la funcion evaluada en x para luego evaluar:\n",
    "#### $$t_n := \\frac{|(x_n-x_{n-1})^T[\\nabla f(x_n)-\\nabla f(x_{n-1})]|}{|| \\nabla f(x_n)-\\nabla f(x_{n-1})||^2} $$ \n",
    "#### Y finalmente: $$x_{n+1}:=x_n+t_n \\Delta x_n$$"
   ]
  },
  {
   "cell_type": "markdown",
   "id": "3f98ac6d-cca0-4cb2-b916-44c0f13c848c",
   "metadata": {},
   "source": [
    "# Se nos solicita entonces el siguiente ejercicio:\n",
    "#### Implemente el algoritmo para funciones bivariantes utilizando el lenguaje de su preferencia y librerías matemáticas que incorporen derivadas numéricas o el cálculo del gradiente."
   ]
  },
  {
   "cell_type": "markdown",
   "id": "56880f1f-036d-421b-b428-0fcfab5b8899",
   "metadata": {},
   "source": [
    "### Importaciones"
   ]
  },
  {
   "cell_type": "code",
   "execution_count": 1,
   "id": "c7254db3-6a54-4790-a62c-d86fd2c9998a",
   "metadata": {},
   "outputs": [],
   "source": [
    "from sympy import *"
   ]
  },
  {
   "cell_type": "code",
   "execution_count": 2,
   "id": "ffd93bdd-7ec0-414d-9472-36f5f32fa983",
   "metadata": {},
   "outputs": [],
   "source": [
    "def derivatives(f,x,y):\n",
    "    \"\"\"\n",
    "    It takes a function (x,y)  and returns the partial derivative of x,y \n",
    "    \n",
    "    :param f: the function\n",
    "    :param x: the x-coordinate of the point\n",
    "    :param y: the function\n",
    "    :return: The first two elements are the second derivatives of f with respect to x and y,\n",
    "    respectively. \n",
    "    \"\"\"\n",
    "    dx = diff(f, x)\n",
    "    dy = diff(f, y)\n",
    "    return Matrix([[dx],[dy]])"
   ]
  },
  {
   "cell_type": "code",
   "execution_count": 3,
   "id": "df06f456-63d9-47ce-b570-9281432df24f",
   "metadata": {},
   "outputs": [],
   "source": [
    "def functions(f: str):\n",
    "    \"\"\"\n",
    "    If the input is a function, return it. Otherwise, convert it to a function\n",
    "\n",
    "    :param f: the function to be integrated\n",
    "    :type f: str\n",
    "    :return: The function itself if it is a function, otherwise it is converted to a sympy function.\n",
    "    \"\"\"\n",
    "    return f if isinstance(f, Function) else sympify(f)"
   ]
  },
  {
   "cell_type": "code",
   "execution_count": 12,
   "id": "cdfb342b-04da-4be7-b6d6-7de0fe8204d3",
   "metadata": {},
   "outputs": [],
   "source": [
    "def barz_borw(tV,xV,yV,gradientV,etaV,x,y):\n",
    "    '''\n",
    "    This function take for parameters a scale value, (x,y) coordinates, its gradient, an eta value and the x,y symbols.\n",
    "    :param tV: refers to the t value (scale value).\n",
    "    :param xV: refers to x coordinate value.\n",
    "    :param yV: refers to y coordinate value.\n",
    "    :param gradientV: refers to the gradient of the function f(x,y).\n",
    "    :param etaV: refers to eta value.\n",
    "    :param x: refers to x symbol.\n",
    "    :param y: refers to y symbol.\n",
    "    :param oGr : refers to the old gradient or the first gradient calculated before reasignating t.\n",
    "    :param nGr : refers to the new gradient value after reasignating t.\n",
    "    :param dx : referst to the Δ𝑥𝑛:=−∇𝑓(𝑥𝑛) value.\n",
    "    :param lwP :refers to the lowest part of the equation (||∇𝑓(𝑥𝑛)−∇𝑓(𝑥𝑛−1)||2)\n",
    "    :return:   Return the  Barzilai-Borwein algorithm value  on the given data.\n",
    "    '''\n",
    "    cords=Matrix([[float(xV)],[float(yV)]])\n",
    "    ad = []\n",
    "    z = []\n",
    "    while(float(gradientV.subs([(x,cords[0]),(y,cords[1])]).norm())>=etaV):\n",
    "        oGr= gradientV.subs([(x,cords[0]),(y,cords[1])])\n",
    "        dx= -tV * oGr\n",
    "        z.append(float(gradientV.subs([(x,cords[0]),(y,cords[1])]).norm()))\n",
    "        cords=cords+dx\n",
    "        nGr=gradientV.subs([(x,cords[0]),(y,cords[1])])\n",
    "        lwP = nGr - oGr\n",
    "        oGr = nGr\n",
    "        tV = dx.dot(lwP) / lwP.dot(lwP)\n",
    "        ad.append(cords)\n",
    "        \n",
    "    return cords,ad,z\n",
    "\n",
    "        "
   ]
  },
  {
   "cell_type": "code",
   "execution_count": 16,
   "id": "e83e9c13",
   "metadata": {},
   "outputs": [],
   "source": [
    "# Modulos con los que trabajaremos\n",
    "from mpl_toolkits.mplot3d import axes3d\n",
    "import matplotlib.pyplot as plt\n",
    "import numpy as np"
   ]
  },
  {
   "cell_type": "code",
   "execution_count": 20,
   "id": "6ffff317-20b1-4b36-b589-db3e97da617b",
   "metadata": {},
   "outputs": [],
   "source": [
    "def main():\n",
    "    x = Symbol('x')\n",
    "    y = Symbol('y')\n",
    "    f = input('Enter a function: ')\n",
    "    function = functions(f)\n",
    "    tV = float(input('Enter a t value between 0-1: '))\n",
    "    eV =float( input('Enter a eta value: '))\n",
    "    xV= float(input('Enter the x  value: '))\n",
    "    yV= float(input('Enter the y  value: '))\n",
    "    gradientV = derivatives(function,x,y)\n",
    "    cords,desc,z=barz_borw(tV,xV,yV,gradientV,eV,x,y)\n",
    "\n",
    "    print(cords)\n",
    "    print(desc)\n",
    "    print(\"z:\",z)\n",
    "    xl = []\n",
    "    yl = []\n",
    "    for e in desc:\n",
    "        xl.append(e[0])\n",
    "        yl.append(e[1])\n",
    "    \n",
    "    x = np.array([xl])\n",
    "    y = np.array([yl])\n",
    "    z = np.array([z])\n",
    "    fig = plt.figure()\n",
    "    ax1 = fig.add_subplot(111,projection='3d')\n",
    "    ax1.plot_wireframe(x, y, z, color='blue')\n",
    "    ax1.set_title(\"Gradiente Descendente con t Fijo\")\n",
    "    ax1.set_xlabel('x-axis')\n",
    "    ax1.set_ylabel('y-axis')\n",
    "    ax1.set_zlabel('z-axis')\n",
    "    plt.show()\n",
    "\n"
   ]
  },
  {
   "cell_type": "code",
   "execution_count": 21,
   "id": "20a7fc70-f3ed-4097-8264-9cd8b09ec179",
   "metadata": {},
   "outputs": [
    {
     "ename": "SympifyError",
     "evalue": "Sympify of expression 'could not parse ''' failed, because of exception being raised:\nSyntaxError: invalid syntax (<string>, line 0)",
     "output_type": "error",
     "traceback": [
      "\u001b[1;31m---------------------------------------------------------------------------\u001b[0m",
      "\u001b[1;31mValueError\u001b[0m                                Traceback (most recent call last)",
      "\u001b[1;31mValueError\u001b[0m: Error from parse_expr with transformed code: ''",
      "\nThe above exception was the direct cause of the following exception:\n",
      "\u001b[1;31mSyntaxError\u001b[0m                               Traceback (most recent call last)",
      "File \u001b[1;32mc:\\Python310\\lib\\site-packages\\sympy\\core\\sympify.py:495\u001b[0m, in \u001b[0;36msympify\u001b[1;34m(a, locals, convert_xor, strict, rational, evaluate)\u001b[0m\n\u001b[0;32m    494\u001b[0m     a \u001b[39m=\u001b[39m a\u001b[39m.\u001b[39mreplace(\u001b[39m'\u001b[39m\u001b[39m\\n\u001b[39;00m\u001b[39m'\u001b[39m, \u001b[39m'\u001b[39m\u001b[39m'\u001b[39m)\n\u001b[1;32m--> 495\u001b[0m     expr \u001b[39m=\u001b[39m parse_expr(a, local_dict\u001b[39m=\u001b[39;49m\u001b[39mlocals\u001b[39;49m, transformations\u001b[39m=\u001b[39;49mtransformations, evaluate\u001b[39m=\u001b[39;49mevaluate)\n\u001b[0;32m    496\u001b[0m \u001b[39mexcept\u001b[39;00m (TokenError, \u001b[39mSyntaxError\u001b[39;00m) \u001b[39mas\u001b[39;00m exc:\n",
      "File \u001b[1;32mc:\\Python310\\lib\\site-packages\\sympy\\parsing\\sympy_parser.py:1105\u001b[0m, in \u001b[0;36mparse_expr\u001b[1;34m(s, local_dict, transformations, global_dict, evaluate)\u001b[0m\n\u001b[0;32m   1104\u001b[0m     local_dict[i] \u001b[39m=\u001b[39m null\n\u001b[1;32m-> 1105\u001b[0m \u001b[39mraise\u001b[39;00m e \u001b[39mfrom\u001b[39;00m \u001b[39mValueError\u001b[39;00m(\u001b[39mf\u001b[39m\u001b[39m\"\u001b[39m\u001b[39mError from parse_expr with transformed code: \u001b[39m\u001b[39m{\u001b[39;00mcode\u001b[39m!r}\u001b[39;00m\u001b[39m\"\u001b[39m)\n",
      "File \u001b[1;32mc:\\Python310\\lib\\site-packages\\sympy\\parsing\\sympy_parser.py:1096\u001b[0m, in \u001b[0;36mparse_expr\u001b[1;34m(s, local_dict, transformations, global_dict, evaluate)\u001b[0m\n\u001b[0;32m   1095\u001b[0m \u001b[39mtry\u001b[39;00m:\n\u001b[1;32m-> 1096\u001b[0m     rv \u001b[39m=\u001b[39m eval_expr(code, local_dict, global_dict)\n\u001b[0;32m   1097\u001b[0m     \u001b[39m# restore neutral definitions for names\u001b[39;00m\n",
      "File \u001b[1;32mc:\\Python310\\lib\\site-packages\\sympy\\parsing\\sympy_parser.py:915\u001b[0m, in \u001b[0;36meval_expr\u001b[1;34m(code, local_dict, global_dict)\u001b[0m\n\u001b[0;32m    910\u001b[0m \u001b[39m\"\"\"\u001b[39;00m\n\u001b[0;32m    911\u001b[0m \u001b[39mEvaluate Python code generated by ``stringify_expr``.\u001b[39;00m\n\u001b[0;32m    912\u001b[0m \n\u001b[0;32m    913\u001b[0m \u001b[39mGenerally, ``parse_expr`` should be used.\u001b[39;00m\n\u001b[0;32m    914\u001b[0m \u001b[39m\"\"\"\u001b[39;00m\n\u001b[1;32m--> 915\u001b[0m expr \u001b[39m=\u001b[39m \u001b[39meval\u001b[39;49m(\n\u001b[0;32m    916\u001b[0m     code, global_dict, local_dict)  \u001b[39m# take local objects in preference\u001b[39;00m\n\u001b[0;32m    917\u001b[0m \u001b[39mreturn\u001b[39;00m expr\n",
      "\u001b[1;31mSyntaxError\u001b[0m: invalid syntax (<string>, line 0)",
      "\nDuring handling of the above exception, another exception occurred:\n",
      "\u001b[1;31mSympifyError\u001b[0m                              Traceback (most recent call last)",
      "\u001b[1;32mc:\\Users\\felip\\Documents\\GitHub\\programaci-n-no-lineal-mediante-fuerza-bruta\\descending gradient with t fixed\\mainTVaraible.ipynb Cell 11'\u001b[0m in \u001b[0;36m<cell line: 1>\u001b[1;34m()\u001b[0m\n\u001b[1;32m----> <a href='vscode-notebook-cell:/c%3A/Users/felip/Documents/GitHub/programaci-n-no-lineal-mediante-fuerza-bruta/descending%20gradient%20with%20t%20fixed/mainTVaraible.ipynb#ch0000009?line=0'>1</a>\u001b[0m main()\n",
      "\u001b[1;32mc:\\Users\\felip\\Documents\\GitHub\\programaci-n-no-lineal-mediante-fuerza-bruta\\descending gradient with t fixed\\mainTVaraible.ipynb Cell 10'\u001b[0m in \u001b[0;36mmain\u001b[1;34m()\u001b[0m\n\u001b[0;32m      <a href='vscode-notebook-cell:/c%3A/Users/felip/Documents/GitHub/programaci-n-no-lineal-mediante-fuerza-bruta/descending%20gradient%20with%20t%20fixed/mainTVaraible.ipynb#ch0000008?line=2'>3</a>\u001b[0m y \u001b[39m=\u001b[39m Symbol(\u001b[39m'\u001b[39m\u001b[39my\u001b[39m\u001b[39m'\u001b[39m)\n\u001b[0;32m      <a href='vscode-notebook-cell:/c%3A/Users/felip/Documents/GitHub/programaci-n-no-lineal-mediante-fuerza-bruta/descending%20gradient%20with%20t%20fixed/mainTVaraible.ipynb#ch0000008?line=3'>4</a>\u001b[0m f \u001b[39m=\u001b[39m \u001b[39minput\u001b[39m(\u001b[39m'\u001b[39m\u001b[39mEnter a function: \u001b[39m\u001b[39m'\u001b[39m)\n\u001b[1;32m----> <a href='vscode-notebook-cell:/c%3A/Users/felip/Documents/GitHub/programaci-n-no-lineal-mediante-fuerza-bruta/descending%20gradient%20with%20t%20fixed/mainTVaraible.ipynb#ch0000008?line=4'>5</a>\u001b[0m function \u001b[39m=\u001b[39m functions(f)\n\u001b[0;32m      <a href='vscode-notebook-cell:/c%3A/Users/felip/Documents/GitHub/programaci-n-no-lineal-mediante-fuerza-bruta/descending%20gradient%20with%20t%20fixed/mainTVaraible.ipynb#ch0000008?line=5'>6</a>\u001b[0m tV \u001b[39m=\u001b[39m \u001b[39mfloat\u001b[39m(\u001b[39minput\u001b[39m(\u001b[39m'\u001b[39m\u001b[39mEnter a t value between 0-1: \u001b[39m\u001b[39m'\u001b[39m))\n\u001b[0;32m      <a href='vscode-notebook-cell:/c%3A/Users/felip/Documents/GitHub/programaci-n-no-lineal-mediante-fuerza-bruta/descending%20gradient%20with%20t%20fixed/mainTVaraible.ipynb#ch0000008?line=6'>7</a>\u001b[0m eV \u001b[39m=\u001b[39m\u001b[39mfloat\u001b[39m( \u001b[39minput\u001b[39m(\u001b[39m'\u001b[39m\u001b[39mEnter a eta value: \u001b[39m\u001b[39m'\u001b[39m))\n",
      "\u001b[1;32mc:\\Users\\felip\\Documents\\GitHub\\programaci-n-no-lineal-mediante-fuerza-bruta\\descending gradient with t fixed\\mainTVaraible.ipynb Cell 7'\u001b[0m in \u001b[0;36mfunctions\u001b[1;34m(f)\u001b[0m\n\u001b[0;32m      <a href='vscode-notebook-cell:/c%3A/Users/felip/Documents/GitHub/programaci-n-no-lineal-mediante-fuerza-bruta/descending%20gradient%20with%20t%20fixed/mainTVaraible.ipynb#ch0000006?line=0'>1</a>\u001b[0m \u001b[39mdef\u001b[39;00m \u001b[39mfunctions\u001b[39m(f: \u001b[39mstr\u001b[39m):\n\u001b[0;32m      <a href='vscode-notebook-cell:/c%3A/Users/felip/Documents/GitHub/programaci-n-no-lineal-mediante-fuerza-bruta/descending%20gradient%20with%20t%20fixed/mainTVaraible.ipynb#ch0000006?line=1'>2</a>\u001b[0m     \u001b[39m\"\"\"\u001b[39;00m\n\u001b[0;32m      <a href='vscode-notebook-cell:/c%3A/Users/felip/Documents/GitHub/programaci-n-no-lineal-mediante-fuerza-bruta/descending%20gradient%20with%20t%20fixed/mainTVaraible.ipynb#ch0000006?line=2'>3</a>\u001b[0m \u001b[39m    If the input is a function, return it. Otherwise, convert it to a function\u001b[39;00m\n\u001b[0;32m      <a href='vscode-notebook-cell:/c%3A/Users/felip/Documents/GitHub/programaci-n-no-lineal-mediante-fuerza-bruta/descending%20gradient%20with%20t%20fixed/mainTVaraible.ipynb#ch0000006?line=3'>4</a>\u001b[0m \n\u001b[1;32m   (...)\u001b[0m\n\u001b[0;32m      <a href='vscode-notebook-cell:/c%3A/Users/felip/Documents/GitHub/programaci-n-no-lineal-mediante-fuerza-bruta/descending%20gradient%20with%20t%20fixed/mainTVaraible.ipynb#ch0000006?line=6'>7</a>\u001b[0m \u001b[39m    :return: The function itself if it is a function, otherwise it is converted to a sympy function.\u001b[39;00m\n\u001b[0;32m      <a href='vscode-notebook-cell:/c%3A/Users/felip/Documents/GitHub/programaci-n-no-lineal-mediante-fuerza-bruta/descending%20gradient%20with%20t%20fixed/mainTVaraible.ipynb#ch0000006?line=7'>8</a>\u001b[0m \u001b[39m    \"\"\"\u001b[39;00m\n\u001b[1;32m----> <a href='vscode-notebook-cell:/c%3A/Users/felip/Documents/GitHub/programaci-n-no-lineal-mediante-fuerza-bruta/descending%20gradient%20with%20t%20fixed/mainTVaraible.ipynb#ch0000006?line=8'>9</a>\u001b[0m     \u001b[39mreturn\u001b[39;00m f \u001b[39mif\u001b[39;00m \u001b[39misinstance\u001b[39m(f, Function) \u001b[39melse\u001b[39;00m sympify(f)\n",
      "File \u001b[1;32mc:\\Python310\\lib\\site-packages\\sympy\\core\\sympify.py:497\u001b[0m, in \u001b[0;36msympify\u001b[1;34m(a, locals, convert_xor, strict, rational, evaluate)\u001b[0m\n\u001b[0;32m    495\u001b[0m     expr \u001b[39m=\u001b[39m parse_expr(a, local_dict\u001b[39m=\u001b[39m\u001b[39mlocals\u001b[39m, transformations\u001b[39m=\u001b[39mtransformations, evaluate\u001b[39m=\u001b[39mevaluate)\n\u001b[0;32m    496\u001b[0m \u001b[39mexcept\u001b[39;00m (TokenError, \u001b[39mSyntaxError\u001b[39;00m) \u001b[39mas\u001b[39;00m exc:\n\u001b[1;32m--> 497\u001b[0m     \u001b[39mraise\u001b[39;00m SympifyError(\u001b[39m'\u001b[39m\u001b[39mcould not parse \u001b[39m\u001b[39m%r\u001b[39;00m\u001b[39m'\u001b[39m \u001b[39m%\u001b[39m a, exc)\n\u001b[0;32m    499\u001b[0m \u001b[39mreturn\u001b[39;00m expr\n",
      "\u001b[1;31mSympifyError\u001b[0m: Sympify of expression 'could not parse ''' failed, because of exception being raised:\nSyntaxError: invalid syntax (<string>, line 0)"
     ]
    }
   ],
   "source": [
    "main()"
   ]
  },
  {
   "cell_type": "code",
   "execution_count": null,
   "id": "b0d0b2b5",
   "metadata": {},
   "outputs": [],
   "source": []
  },
  {
   "cell_type": "markdown",
   "id": "bb7dcb36-0f4f-42fa-b890-c73b197d83bd",
   "metadata": {},
   "source": []
  }
 ],
 "metadata": {
  "kernelspec": {
   "display_name": "Python 3.10.4 64-bit",
   "language": "python",
   "name": "python3"
  },
  "language_info": {
   "codemirror_mode": {
    "name": "ipython",
    "version": 3
   },
   "file_extension": ".py",
   "mimetype": "text/x-python",
   "name": "python",
   "nbconvert_exporter": "python",
   "pygments_lexer": "ipython3",
   "version": "3.10.4"
  },
  "vscode": {
   "interpreter": {
    "hash": "369f2c481f4da34e4445cda3fffd2e751bd1c4d706f27375911949ba6bb62e1c"
   }
  }
 },
 "nbformat": 4,
 "nbformat_minor": 5
}
