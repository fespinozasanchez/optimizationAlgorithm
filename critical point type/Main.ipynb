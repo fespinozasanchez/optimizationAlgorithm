{
 "cells": [
  {
   "cell_type": "markdown",
   "id": "7b1c3010",
   "metadata": {},
   "source": [
    "# Derivada por Definición"
   ]
  },
  {
   "cell_type": "code",
   "execution_count": 1,
   "id": "7297c2c8",
   "metadata": {},
   "outputs": [],
   "source": [
    "from sympy import *"
   ]
  },
  {
   "cell_type": "markdown",
   "id": "7563cdef",
   "metadata": {},
   "source": [
    "#### 1. Derivada parcial respecto a la variable x:\n",
    "### $$ f(x,y) = \\dfrac{f(x+\\Delta x; y)- f(x,y)}{\\Delta x}$$ "
   ]
  },
  {
   "cell_type": "markdown",
   "id": "23d50aa4",
   "metadata": {},
   "source": [
    "####  2. Derivada parcial respecto a la variable y:\n",
    "### $$ f(x,y) = \\dfrac{f(x; \\Delta y + y)- f(x,y)}{\\Delta y}$$ "
   ]
  },
  {
   "cell_type": "code",
   "execution_count": 2,
   "id": "42829a34",
   "metadata": {},
   "outputs": [],
   "source": [
    "def functions(f: str):\n",
    "    \"\"\"\n",
    "    If the input is a function, return it. Otherwise, convert it to a function\n",
    "\n",
    "    :param f: the function to be integrated\n",
    "    :type f: str\n",
    "    :return: The function itself if it is a function, otherwise it is converted to a sympy function.\n",
    "    \"\"\"\n",
    "    return f if isinstance(f, Function) else sympify(f)"
   ]
  },
  {
   "cell_type": "markdown",
   "id": "8a996ad3",
   "metadata": {},
   "source": [
    "#### Funcion derivatives (f,x,y):return -> \n",
    "1. Primera Derivada parcial $$ \\dfrac{\\partial f(x) }{\\partial x_{1}^{1}};  \\dfrac{\\partial f(x) }{\\partial x_{2}^{1}} $$\n",
    "2. Segunda Derivada parcial $$ \\dfrac{\\partial^2 f(x) }{\\partial x_{1}^{2}};  \\dfrac{\\partial^2 f(x) }{\\partial x_{2}^{2}} $$\n",
    "3. Primera Derivada parcial de x con respecto a $x_2$ $$ \\dfrac{\\partial ^ 2 f(x) }{\\partial x_{1}x_{2}^{2}}  $$\n",
    "4. Solve: Resuelve el sistema de ecuaciones con respecto a la Primera derivada parcial de $x_1$ y $x_2$ devolviendo los puntos "
   ]
  },
  {
   "cell_type": "code",
   "execution_count": 3,
   "id": "1636b4ad",
   "metadata": {},
   "outputs": [],
   "source": [
    "def derivatives(f,x,y):\n",
    "    \"\"\"\n",
    "    It takes a function (x,y)$ and returns the second partial derivatives of $ with respect to $\n",
    "    and $, the mixed partial derivative of $ with respect to $ and $, and the critical points of\n",
    "    $\n",
    "    \n",
    "    :param f: the function\n",
    "    :param x: the x-coordinate of the point\n",
    "    :param y: the function\n",
    "    :return: The first two elements are the second derivatives of f with respect to x and y,\n",
    "    respectively. The third element is the mixed second derivative of f. The fourth element is a list of\n",
    "    solutions to the system of equations dx = 0 and dy = 0.\n",
    "    \"\"\"\n",
    "    dx = diff(f, x)\n",
    "    dy = diff(f, y)\n",
    "    sol = solve((dx, dy), (x, y))\n",
    "    return [diff(dx, x), diff(dy, y), diff(dx, y), sol]"
   ]
  },
  {
   "cell_type": "code",
   "execution_count": 4,
   "id": "4b6ef491",
   "metadata": {},
   "outputs": [],
   "source": [
    "def point_type(x, y, result):\n",
    "    derivate2_x,derivate2_y, derivate_x_y, points = result\n",
    "    response = []\n",
    "    for point in points:\n",
    "        dic = {x:point[0],y:point[1]}\n",
    "        print(dic)\n",
    "        # h_x = derivate2_x.evalf(subs=dic) * derivate2_y.evalf(subs=dic) - derivate_x_y.evalf(subs=dic) **2\n",
    "        # if h_x < 0: response.append(f\"H(x)= {h_x} para {point} por lo tanto es: un punto silla\")\n",
    "        # if (h_x > 0 and (derivate2_x.evalf(subs=dic)< 0 or derivate2_y.evalf(subs=dic)<0) ):response.append( f\"H(x)= {h_x} para {point} por lo tanto es: un máximo local.\")\n",
    "        # if (h_x > 0 and (derivate2_x.evalf(subs=dic)> 0 or derivate2_y.evalf(subs=dic)>0) ):response.append( f\"H(x)= {h_x} para {point} por lo tanto es: un mínimo local.\")\n",
    "        # if (h_x)==0: response.append(f\"No existe información suficiente sobre el punto {point}.\")\n",
    "    return response"
   ]
  },
  {
   "cell_type": "code",
   "execution_count": 5,
   "id": "36230cf5",
   "metadata": {},
   "outputs": [],
   "source": [
    "def main():\n",
    "    x = Symbol('x')\n",
    "    y = Symbol('y')\n",
    "    f = input('Enter a function: ')\n",
    "    function = functions(f)\n",
    "    result = derivatives(function,x,y)\n",
    "    print(result)\n",
    "    for i in point_type(x,y, result):\n",
    "         print(i)"
   ]
  },
  {
   "cell_type": "markdown",
   "id": "1c23256f",
   "metadata": {},
   "source": [
    "# Resultados:"
   ]
  },
  {
   "cell_type": "code",
   "execution_count": 6,
   "id": "dbdafb5e",
   "metadata": {},
   "outputs": [
    {
     "name": "stdout",
     "output_type": "stream",
     "text": [
      "Enter a function: 3*x**2 + 5*y**2 - 10*x**2*y + 7\n",
      "[6 - 20*y, 10, -20*x, [(0, 0), (-sqrt(30)/10, 3/10), (sqrt(30)/10, 3/10)]]\n",
      "H(x)= 60.0000000000000 para (0, 0) por lo tanto es: un mínimo local.\n",
      "H(x)= -120.000000000000 para (-sqrt(30)/10, 3/10) por lo tanto es: un punto silla\n",
      "H(x)= -120.000000000000 para (sqrt(30)/10, 3/10) por lo tanto es: un punto silla\n"
     ]
    }
   ],
   "source": [
    "main()"
   ]
  },
  {
   "cell_type": "code",
   "execution_count": null,
   "id": "3d24488f",
   "metadata": {},
   "outputs": [],
   "source": []
  },
  {
   "cell_type": "code",
   "execution_count": null,
   "id": "9dab4d40",
   "metadata": {},
   "outputs": [],
   "source": []
  }
 ],
 "metadata": {
  "kernelspec": {
   "display_name": "Python 3.10.4 64-bit",
   "language": "python",
   "name": "python3"
  },
  "language_info": {
   "codemirror_mode": {
    "name": "ipython",
    "version": 3
   },
   "file_extension": ".py",
   "mimetype": "text/x-python",
   "name": "python",
   "nbconvert_exporter": "python",
   "pygments_lexer": "ipython3",
   "version": "3.10.4"
  },
  "vscode": {
   "interpreter": {
    "hash": "369f2c481f4da34e4445cda3fffd2e751bd1c4d706f27375911949ba6bb62e1c"
   }
  }
 },
 "nbformat": 4,
 "nbformat_minor": 5
}
