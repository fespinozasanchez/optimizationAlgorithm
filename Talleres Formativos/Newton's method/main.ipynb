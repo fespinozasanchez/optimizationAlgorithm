{
 "cells": [
  {
   "cell_type": "markdown",
   "id": "d99f218f-649d-465c-bb6e-44a04281b689",
   "metadata": {},
   "source": [
    "<center> <h1>Método de Newton</h1> </center>"
   ]
  },
  {
   "cell_type": "markdown",
   "id": "84cd4711-d50c-4b50-a13c-b453b6f36342",
   "metadata": {},
   "source": [
    "<h2><ol>\n",
    "  <li>Dado un punto x en el dominio de $f(x)$, un escalar $t > 0$ y una cota de error $\\epsilon$ > 0</li>\n",
    "  <li>Repita \n",
    "         <ul>\n",
    "          <li>$x_{n+1} := x_n - t (\\nabla^2 x_n)^{-1} \\nabla x$</li>\n",
    "          <li> Si $ ||\\nabla x_{n+1}|| < ||\\nabla x_{n}|| $\n",
    "              <ul>\n",
    "                  <li>$ g(0) := ||\\nabla x_{n}|| $</li>\n",
    "                  <li>$ g'(0) := - \\frac{||\\nabla x_{n+1}||}{||\\nabla x_{n+1} - \\nabla x_{n}||} $</li>\n",
    "                  <li>$ g(1) := ||\\nabla x_{n+1}|| $</li>\n",
    "                  <li>$t' := máx(\\frac{-g'(0)}{2\\cdot [g(1)-g(0)-g'(0)]},0.1) $</li>\n",
    "                  <li>$x_{n+1} = [1-t'] x_n + t'x_{n+1}$</li>\n",
    "              </ul>\n",
    "          </li>\n",
    "          <li>Hasta que $ ||x_{n+1} - x_n|| \\leq \\epsilon $</li>\n",
    "      </ul> \n",
    "   </li>\n",
    "\n",
    "</ol></h2>"
   ]
  },
  {
   "cell_type": "code",
   "execution_count": 1,
   "id": "d8d8daad-a21d-426c-b8fc-31b37fec75f0",
   "metadata": {},
   "outputs": [],
   "source": [
    "import sympy\n",
    "from sympy import*\n",
    "import numpy as np"
   ]
  },
  {
   "cell_type": "code",
   "execution_count": 2,
   "id": "81428b98-92ec-4683-8763-423964d63bca",
   "metadata": {},
   "outputs": [],
   "source": [
    "def functions(f: str):\n",
    "    \"\"\"\n",
    "    If the input is a function, return it. Otherwise, convert it to a function\n",
    "\n",
    "    :param f: the function to be integrated\n",
    "    :type f: str\n",
    "    :return: The function itself if it is a function, otherwise it is converted to a sympy function.\n",
    "    \"\"\"\n",
    "    return f if isinstance(f, Function) else sympify(f)"
   ]
  },
  {
   "cell_type": "code",
   "execution_count": 3,
   "id": "47030308-4665-4275-b8b6-5ded91a8e96e",
   "metadata": {},
   "outputs": [],
   "source": [
    "def get_Symbols()->list:\n",
    "    \"\"\"\n",
    "    It returns a list of two symbols, `x` \n",
    "    :return: A list of two symbols, x \n",
    "    \"\"\"\n",
    "    return Symbol('x')"
   ]
  },
  {
   "cell_type": "code",
   "execution_count": 4,
   "id": "6bc504c3-66f9-4f31-be26-7a0b7890473c",
   "metadata": {},
   "outputs": [],
   "source": [
    "def get_Derivative(f: sympy.Expr, x: sympy.Symbol, n: int) -> sympy.Expr:\n",
    "    \"\"\"\n",
    "    It takes a function, a variable, and a number, and returns the nth derivative of the function with\n",
    "    respect to the variable\n",
    "\n",
    "    :param f: sympy.Expr - the function to take the derivative of\n",
    "    :type f: sympy.Expr\n",
    "    :param x: the variable you want to differentiate with respect to\n",
    "    :type x: sympy.Symbol\n",
    "    :param n: the number of times you want to differentiate the function\n",
    "    :type n: int\n",
    "    :return: The nth derivative of f with respect to x.\n",
    "    \"\"\"\n",
    "    return sympy.diff(f, x, n)"
   ]
  },
  {
   "cell_type": "code",
   "execution_count": 5,
   "id": "341e6dad-ec58-4d3d-bd6e-012f24457791",
   "metadata": {},
   "outputs": [],
   "source": [
    "def get_Gradient(f: sympy.Expr, X: sympy.Symbol, n: int, x:int) -> sympy.Expr:\n",
    "    \"\"\"\n",
    "    It takes a function, a variable, a number of derivatives, and a point, and returns the gradient of\n",
    "    the function at that point\n",
    "    \n",
    "    :param f: sympy.Expr = the function you want to find the gradient of\n",
    "    :type f: sympy.Expr\n",
    "    :param X: sympy.Symbol = The variable you want to differentiate with respect to\n",
    "    :type X: sympy.Symbol\n",
    "    :param n: The number of variables in the function\n",
    "    :type n: int\n",
    "    :param x: the value of x\n",
    "    :type x: int\n",
    "    :return: A matrix with the value of the derivative of f with respect to X at x.\n",
    "    \"\"\"\n",
    "    return Matrix([[eval(str(get_Derivative(f, X, n)))]])"
   ]
  },
  {
   "cell_type": "code",
   "execution_count": 6,
   "id": "80442490-ea65-4c08-bb30-313559b28e97",
   "metadata": {},
   "outputs": [],
   "source": [
    "def get_Epsilon()->float:\n",
    "    \"\"\"\n",
    "    The function returns the smallest positive number that can be represented by the float data type\n",
    "    :return: The smallest positive number that can be represented in the float data type.\n",
    "    \"\"\"\n",
    "    return np.finfo(float).eps"
   ]
  },
  {
   "cell_type": "code",
   "execution_count": 7,
   "id": "cdb14826-f5bb-4609-9d47-b0174a159479",
   "metadata": {},
   "outputs": [],
   "source": [
    "def Newton_method(f: sympy.Expr, t:float, e:float, x:sympy.Symbol, x_n:float )->sympy.Expr:\n",
    "    x_n = x_n\n",
    "    x_n1 = x_n - t * get_Gradient(f, x, 2, x_n).inv()[0] * get_Gradient(f, x, 1, x_n)[0]\n",
    "    norma_xn_xn1 = Matrix([[x_n1 - x_n]]).norm()\n",
    "    while (norma_xn_xn1 >= e):\n",
    "        norma_xn_1 = Matrix([[x_n1]]).norm()\n",
    "        norma_xn =  Matrix([[x_n]]).norm()\n",
    "        print(norma_xn_1,norma_xn)\n",
    "        if (norma_xn_1 < norma_xn):\n",
    "            g_0 = norma_xn\n",
    "            norma_gradient = Matrix([[get_Gradient(f, x, 2, x_n1)[0]-get_Gradient(f, x, 2, x_n)[0]]]).norm()\n",
    "            _g_0 = g_0 / norma_gradient\n",
    "            g_1 = Matrix([[get_Gradient(f, x, 2, x_n1)[0]]]).norm()\n",
    "            _t = max([- _g_0 / 2 * (g_1 - g_0 - _g_0),0.1])\n",
    "            x_n1 = float((1-_t) * x_n + _t * x_n1)\n",
    "        x_n = x_n1\n",
    "        norma_xn_xn1 = Matrix([[x_n1 - x_n]]).norm()\n",
    "        return [x_n1, f]"
   ]
  },
  {
   "cell_type": "code",
   "execution_count": 8,
   "id": "a771c383-c95e-4c6e-a585-514171892c5e",
   "metadata": {},
   "outputs": [
    {
     "name": "stdin",
     "output_type": "stream",
     "text": [
      "Ingrese su función:  2*x**3+x**2\n",
      "Ingrese x:  1\n",
      "Ingrese escalar t:  0.5\n"
     ]
    },
    {
     "name": "stdout",
     "output_type": "stream",
     "text": [
      "0.714285714285714 1.00000000000000\n",
      "[0.9714285714285714, 2*x**3 + x**2]\n"
     ]
    }
   ],
   "source": [
    "e = get_Epsilon()\n",
    "x = get_Symbols()\n",
    "funcion = functions(str(input(\"Ingrese su función: \")))\n",
    "x_n = float(input(\"Ingrese x: \"))\n",
    "t = float(input(\"Ingrese escalar t: \"))\n",
    "newton =  Newton_method(funcion, t, e, x,x_n)\n",
    "print(newton)"
   ]
  },
  {
   "cell_type": "code",
   "execution_count": 9,
   "id": "c9b3b043-97e8-4a30-8e9a-adfa62aed65b",
   "metadata": {},
   "outputs": [
    {
     "name": "stdout",
     "output_type": "stream",
     "text": [
      "Evaluando la función en el Punto\n",
      "Punto optimo\n"
     ]
    },
    {
     "data": {
      "text/plain": [
       "(0.9714285714285714, 2.7770962099125365)"
      ]
     },
     "execution_count": 9,
     "metadata": {},
     "output_type": "execute_result"
    }
   ],
   "source": [
    "print(\"Evaluando la función en el Punto\")\n",
    "x = newton[0]\n",
    "fun_eval = eval(str(newton[1]))\n",
    "print(\"Punto optimo\")\n",
    "(x,fun_eval)"
   ]
  },
  {
   "cell_type": "code",
   "execution_count": null,
   "id": "b0da2bc4-39bd-4a30-a596-414e6a91c127",
   "metadata": {},
   "outputs": [],
   "source": []
  }
 ],
 "metadata": {
  "kernelspec": {
   "display_name": "Python 3 (ipykernel)",
   "language": "python",
   "name": "python3"
  },
  "language_info": {
   "codemirror_mode": {
    "name": "ipython",
    "version": 3
   },
   "file_extension": ".py",
   "mimetype": "text/x-python",
   "name": "python",
   "nbconvert_exporter": "python",
   "pygments_lexer": "ipython3",
   "version": "3.10.4"
  }
 },
 "nbformat": 4,
 "nbformat_minor": 5
}
